{
 "cells": [
  {
   "cell_type": "code",
   "execution_count": 1,
   "metadata": {},
   "outputs": [],
   "source": [
    "pip install datasets nltk"
   ]
  },
  {
   "cell_type": "code",
   "execution_count": null,
   "metadata": {},
   "outputs": [],
   "source": [
    "\n",
    "import tensorflow as tf\n",
    "from tensorflow.keras.preprocessing.text import Tokenizer\n",
    "from tensorflow.keras.preprocessing.sequence import pad_sequences\n",
    "import datasets\n"
   ]
  },
  {
   "cell_type": "code",
   "execution_count": null,
   "metadata": {},
   "outputs": [],
   "source": [
    "# Load XSum dataset from Hugging Face datasets library\n",
    "xsum_dataset = datasets.load_dataset(\"xsum\")\n",
    "\n",
    "# Extract articles and summaries from the XSum dataset\n",
    "train_articles = xsum_dataset[\"train\"][\"document\"]\n",
    "train_summaries = xsum_dataset[\"train\"][\"summary\"]\n",
    "\n",
    "test_articles = xsum_dataset[\"test\"][\"document\"]\n",
    "test_summaries = xsum_dataset[\"test\"][\"summary\"]\n",
    "\n",
    "# Tokenize and preprocess the text data\n",
    "max_words = 10000\n",
    "max_len = 200  # Adjust as needed\n",
    "\n",
    "tokenizer = Tokenizer(num_words=max_words, oov_token='<OOV>')\n",
    "tokenizer.fit_on_texts(train_articles + train_summaries)\n",
    "\n",
    "X_train_seq = tokenizer.texts_to_sequences(train_articles)\n",
    "X_test_seq = tokenizer.texts_to_sequences(test_articles)\n",
    "\n",
    "X_train = pad_sequences(X_train_seq, maxlen=max_len, padding='post')\n",
    "X_test = pad_sequences(X_test_seq, maxlen=max_len, padding='post')\n",
    "\n",
    "# Tokenize and preprocess the target summaries\n",
    "Y_train_seq = tokenizer.texts_to_sequences(train_summaries)\n",
    "Y_test_seq = tokenizer.texts_to_sequences(test_summaries)\n",
    "\n",
    "Y_train = pad_sequences(Y_train_seq, maxlen=max_len, padding='post')\n",
    "Y_test = pad_sequences(Y_test_seq, maxlen=max_len, padding='post')"
   ]
  },
  {
   "cell_type": "code",
   "execution_count": null,
   "metadata": {},
   "outputs": [],
   "source": [
    "# Build the RNN model (similar to the previous example)\n",
    "embedding_dim = 50\n",
    "vocab_size = len(tokenizer.word_index) + 1\n",
    "\n",
    "model = tf.keras.Sequential([\n",
    "    tf.keras.layers.Embedding(input_dim=vocab_size, output_dim=embedding_dim, input_length=max_len),\n",
    "    tf.keras.layers.LSTM(32, return_sequences=True),\n",
    "    tf.keras.layers.Dense(vocab_size, activation='softmax')\n",
    "])\n",
    "# embedding_dim = 100\n",
    "# vocab_size = len(tokenizer.word_index) + 1\n",
    "\n",
    "# model = tf.keras.Sequential([\n",
    "#     tf.keras.layers.Embedding(input_dim=vocab_size, output_dim=embedding_dim, input_length=max_len),\n",
    "#     tf.keras.layers.Bidirectional(tf.keras.layers.LSTM(64, return_sequences=True)),\n",
    "#     tf.keras.layers.BatchNormalization(),\n",
    "#     tf.keras.layers.LSTM(32),\n",
    "#     tf.keras.layers.Dense(vocab_size, activation='softmax')\n",
    "# ])\n",
    "\n",
    "model.compile(optimizer='adam', loss='sparse_categorical_crossentropy', metrics=['accuracy'])\n",
    "\n",
    "# Train the model\n",
    "model.fit(X_train, Y_train, epochs=5, batch_size=64, validation_split=0.2)\n",
    "\n",
    "# Evaluate the model\n",
    "loss, accuracy = model.evaluate(X_test, Y_test)\n",
    "print(f'Test Loss: {loss}, Test Accuracy: {accuracy}')"
   ]
  }
 ],
 "metadata": {
  "kernelspec": {
   "display_name": "Python 3",
   "language": "python",
   "name": "python3"
  },
  "language_info": {
   "codemirror_mode": {
    "name": "ipython",
    "version": 3
   },
   "file_extension": ".py",
   "mimetype": "text/x-python",
   "name": "python",
   "nbconvert_exporter": "python",
   "pygments_lexer": "ipython3",
   "version": "3.12.0"
  }
 },
 "nbformat": 4,
 "nbformat_minor": 2
}
