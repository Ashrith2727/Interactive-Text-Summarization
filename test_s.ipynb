{
  "cells": [
    {
      "cell_type": "code",
      "execution_count": 1,
      "metadata": {
        "colab": {
          "base_uri": "https://localhost:8080/",
          "height": 0
        },
        "id": "9x-dAA5o5z4h",
        "outputId": "2bb48dd2-cb6d-4f71-cb5e-e952ba38c622"
      },
      "outputs": [
        {
          "name": "stdout",
          "output_type": "stream",
          "text": [
            "Requirement already satisfied: tensorflow in c:\\users\\jassu\\appdata\\local\\programs\\python\\python36\\lib\\site-packages (2.6.2)Note: you may need to restart the kernel to use updated packages.\n",
            "\n",
            "Requirement already satisfied: nltk in c:\\users\\jassu\\appdata\\local\\programs\\python\\python36\\lib\\site-packages (3.6.7)\n",
            "Requirement already satisfied: gast==0.4.0 in c:\\users\\jassu\\appdata\\local\\programs\\python\\python36\\lib\\site-packages (from tensorflow) (0.4.0)\n",
            "Requirement already satisfied: wheel~=0.35 in c:\\users\\jassu\\appdata\\local\\programs\\python\\python36\\lib\\site-packages (from tensorflow) (0.37.1)\n",
            "Requirement already satisfied: grpcio<2.0,>=1.37.0 in c:\\users\\jassu\\appdata\\local\\programs\\python\\python36\\lib\\site-packages (from tensorflow) (1.48.2)\n",
            "Requirement already satisfied: numpy~=1.19.2 in c:\\users\\jassu\\appdata\\local\\programs\\python\\python36\\lib\\site-packages (from tensorflow) (1.19.5)\n",
            "Requirement already satisfied: clang~=5.0 in c:\\users\\jassu\\appdata\\local\\programs\\python\\python36\\lib\\site-packages (from tensorflow) (5.0)\n",
            "Requirement already satisfied: opt-einsum~=3.3.0 in c:\\users\\jassu\\appdata\\local\\programs\\python\\python36\\lib\\site-packages (from tensorflow) (3.3.0)\n",
            "Requirement already satisfied: astunparse~=1.6.3 in c:\\users\\jassu\\appdata\\local\\programs\\python\\python36\\lib\\site-packages (from tensorflow) (1.6.3)\n",
            "Requirement already satisfied: termcolor~=1.1.0 in c:\\users\\jassu\\appdata\\local\\programs\\python\\python36\\lib\\site-packages (from tensorflow) (1.1.0)\n",
            "Requirement already satisfied: flatbuffers~=1.12.0 in c:\\users\\jassu\\appdata\\local\\programs\\python\\python36\\lib\\site-packages (from tensorflow) (1.12)\n",
            "Requirement already satisfied: protobuf>=3.9.2 in c:\\users\\jassu\\appdata\\local\\programs\\python\\python36\\lib\\site-packages (from tensorflow) (3.19.6)\n",
            "Requirement already satisfied: typing-extensions~=3.7.4 in c:\\users\\jassu\\appdata\\local\\programs\\python\\python36\\lib\\site-packages (from tensorflow) (3.7.4.3)\n",
            "Requirement already satisfied: google-pasta~=0.2 in c:\\users\\jassu\\appdata\\local\\programs\\python\\python36\\lib\\site-packages (from tensorflow) (0.2.0)\n",
            "Requirement already satisfied: tensorflow-estimator<2.7,>=2.6.0 in c:\\users\\jassu\\appdata\\local\\programs\\python\\python36\\lib\\site-packages (from tensorflow) (2.6.0)\n",
            "Requirement already satisfied: h5py~=3.1.0 in c:\\users\\jassu\\appdata\\local\\programs\\python\\python36\\lib\\site-packages (from tensorflow) (3.1.0)\n",
            "Requirement already satisfied: keras-preprocessing~=1.1.2 in c:\\users\\jassu\\appdata\\local\\programs\\python\\python36\\lib\\site-packages (from tensorflow) (1.1.2)\n",
            "Requirement already satisfied: tensorboard<2.7,>=2.6.0 in c:\\users\\jassu\\appdata\\local\\programs\\python\\python36\\lib\\site-packages (from tensorflow) (2.6.0)\n",
            "Requirement already satisfied: six~=1.15.0 in c:\\users\\jassu\\appdata\\local\\programs\\python\\python36\\lib\\site-packages (from tensorflow) (1.15.0)\n",
            "Requirement already satisfied: absl-py~=0.10 in c:\\users\\jassu\\appdata\\local\\programs\\python\\python36\\lib\\site-packages (from tensorflow) (0.15.0)\n",
            "Requirement already satisfied: keras<2.7,>=2.6.0 in c:\\users\\jassu\\appdata\\local\\programs\\python\\python36\\lib\\site-packages (from tensorflow) (2.6.0)\n",
            "Requirement already satisfied: wrapt~=1.12.1 in c:\\users\\jassu\\appdata\\local\\programs\\python\\python36\\lib\\site-packages (from tensorflow) (1.12.1)\n",
            "Requirement already satisfied: tqdm in c:\\users\\jassu\\appdata\\local\\programs\\python\\python36\\lib\\site-packages (from nltk) (4.64.1)\n",
            "Requirement already satisfied: joblib in c:\\users\\jassu\\appdata\\local\\programs\\python\\python36\\lib\\site-packages (from nltk) (1.1.1)\n",
            "Requirement already satisfied: click in c:\\users\\jassu\\appdata\\local\\programs\\python\\python36\\lib\\site-packages (from nltk) (8.0.4)\n",
            "Requirement already satisfied: regex>=2021.8.3 in c:\\users\\jassu\\appdata\\local\\programs\\python\\python36\\lib\\site-packages (from nltk) (2023.8.8)\n",
            "Requirement already satisfied: cached-property in c:\\users\\jassu\\appdata\\local\\programs\\python\\python36\\lib\\site-packages (from h5py~=3.1.0->tensorflow) (1.5.2)\n",
            "Requirement already satisfied: setuptools>=41.0.0 in c:\\users\\jassu\\appdata\\local\\programs\\python\\python36\\lib\\site-packages (from tensorboard<2.7,>=2.6.0->tensorflow) (59.6.0)\n",
            "Requirement already satisfied: werkzeug>=0.11.15 in c:\\users\\jassu\\appdata\\local\\programs\\python\\python36\\lib\\site-packages (from tensorboard<2.7,>=2.6.0->tensorflow) (2.0.3)\n",
            "Requirement already satisfied: tensorboard-data-server<0.7.0,>=0.6.0 in c:\\users\\jassu\\appdata\\local\\programs\\python\\python36\\lib\\site-packages (from tensorboard<2.7,>=2.6.0->tensorflow) (0.6.1)\n",
            "Requirement already satisfied: tensorboard-plugin-wit>=1.6.0 in c:\\users\\jassu\\appdata\\local\\programs\\python\\python36\\lib\\site-packages (from tensorboard<2.7,>=2.6.0->tensorflow) (1.8.1)\n",
            "Requirement already satisfied: google-auth<2,>=1.6.3 in c:\\users\\jassu\\appdata\\local\\programs\\python\\python36\\lib\\site-packages (from tensorboard<2.7,>=2.6.0->tensorflow) (1.35.0)\n",
            "Requirement already satisfied: requests<3,>=2.21.0 in c:\\users\\jassu\\appdata\\local\\programs\\python\\python36\\lib\\site-packages (from tensorboard<2.7,>=2.6.0->tensorflow) (2.27.1)\n",
            "Requirement already satisfied: markdown>=2.6.8 in c:\\users\\jassu\\appdata\\local\\programs\\python\\python36\\lib\\site-packages (from tensorboard<2.7,>=2.6.0->tensorflow) (3.3.7)\n",
            "Requirement already satisfied: google-auth-oauthlib<0.5,>=0.4.1 in c:\\users\\jassu\\appdata\\local\\programs\\python\\python36\\lib\\site-packages (from tensorboard<2.7,>=2.6.0->tensorflow) (0.4.6)\n",
            "Requirement already satisfied: colorama in c:\\users\\jassu\\appdata\\local\\programs\\python\\python36\\lib\\site-packages (from click->nltk) (0.4.5)\n",
            "Requirement already satisfied: importlib-metadata in c:\\users\\jassu\\appdata\\local\\programs\\python\\python36\\lib\\site-packages (from click->nltk) (4.8.3)\n",
            "Requirement already satisfied: importlib-resources in c:\\users\\jassu\\appdata\\local\\programs\\python\\python36\\lib\\site-packages (from tqdm->nltk) (5.4.0)\n",
            "Requirement already satisfied: pyasn1-modules>=0.2.1 in c:\\users\\jassu\\appdata\\local\\programs\\python\\python36\\lib\\site-packages (from google-auth<2,>=1.6.3->tensorboard<2.7,>=2.6.0->tensorflow) (0.3.0)\n",
            "Requirement already satisfied: rsa<5,>=3.1.4 in c:\\users\\jassu\\appdata\\local\\programs\\python\\python36\\lib\\site-packages (from google-auth<2,>=1.6.3->tensorboard<2.7,>=2.6.0->tensorflow) (4.9)\n",
            "Requirement already satisfied: cachetools<5.0,>=2.0.0 in c:\\users\\jassu\\appdata\\local\\programs\\python\\python36\\lib\\site-packages (from google-auth<2,>=1.6.3->tensorboard<2.7,>=2.6.0->tensorflow) (4.2.4)\n",
            "Requirement already satisfied: requests-oauthlib>=0.7.0 in c:\\users\\jassu\\appdata\\local\\programs\\python\\python36\\lib\\site-packages (from google-auth-oauthlib<0.5,>=0.4.1->tensorboard<2.7,>=2.6.0->tensorflow) (1.3.1)\n",
            "Requirement already satisfied: zipp>=0.5 in c:\\users\\jassu\\appdata\\local\\programs\\python\\python36\\lib\\site-packages (from importlib-metadata->click->nltk) (3.6.0)\n",
            "Requirement already satisfied: charset-normalizer~=2.0.0 in c:\\users\\jassu\\appdata\\local\\programs\\python\\python36\\lib\\site-packages (from requests<3,>=2.21.0->tensorboard<2.7,>=2.6.0->tensorflow) (2.0.12)\n",
            "Requirement already satisfied: idna<4,>=2.5 in c:\\users\\jassu\\appdata\\local\\programs\\python\\python36\\lib\\site-packages (from requests<3,>=2.21.0->tensorboard<2.7,>=2.6.0->tensorflow) (3.4)\n",
            "Requirement already satisfied: certifi>=2017.4.17 in c:\\users\\jassu\\appdata\\local\\programs\\python\\python36\\lib\\site-packages (from requests<3,>=2.21.0->tensorboard<2.7,>=2.6.0->tensorflow) (2023.11.17)\n",
            "Requirement already satisfied: urllib3<1.27,>=1.21.1 in c:\\users\\jassu\\appdata\\local\\programs\\python\\python36\\lib\\site-packages (from requests<3,>=2.21.0->tensorboard<2.7,>=2.6.0->tensorflow) (1.26.18)\n",
            "Requirement already satisfied: dataclasses in c:\\users\\jassu\\appdata\\local\\programs\\python\\python36\\lib\\site-packages (from werkzeug>=0.11.15->tensorboard<2.7,>=2.6.0->tensorflow) (0.8)\n",
            "Requirement already satisfied: pyasn1<0.6.0,>=0.4.6 in c:\\users\\jassu\\appdata\\local\\programs\\python\\python36\\lib\\site-packages (from pyasn1-modules>=0.2.1->google-auth<2,>=1.6.3->tensorboard<2.7,>=2.6.0->tensorflow) (0.5.1)\n",
            "Requirement already satisfied: oauthlib>=3.0.0 in c:\\users\\jassu\\appdata\\local\\programs\\python\\python36\\lib\\site-packages (from requests-oauthlib>=0.7.0->google-auth-oauthlib<0.5,>=0.4.1->tensorboard<2.7,>=2.6.0->tensorflow) (3.2.2)\n"
          ]
        }
      ],
      "source": [
        "pip install tensorflow nltk"
      ]
    },
    {
      "cell_type": "code",
      "execution_count": 62,
      "metadata": {
        "colab": {
          "base_uri": "https://localhost:8080/",
          "height": 0
        },
        "id": "0_wnemcE6rV-",
        "outputId": "e40aa3b4-42d2-41f5-967f-7dc04678d9f7"
      },
      "outputs": [
        {
          "name": "stderr",
          "output_type": "stream",
          "text": [
            "[nltk_data] Downloading package reuters to\n",
            "[nltk_data]     C:\\Users\\jassu\\AppData\\Roaming\\nltk_data...\n",
            "[nltk_data]   Package reuters is already up-to-date!\n"
          ]
        }
      ],
      "source": [
        "import tensorflow as tf\n",
        "from tensorflow.keras.preprocessing.text import Tokenizer\n",
        "from tensorflow.keras.preprocessing.sequence import pad_sequences\n",
        "from tensorflow.keras.models import Sequential\n",
        "from tensorflow.keras.layers import Embedding, LSTM, Dense\n",
        "from nltk.corpus import reuters\n",
        "import nltk\n",
        "\n",
        "# Download the Reuters dataset\n",
        "nltk.download('reuters')\n",
        "\n",
        "# Load the Reuters dataset\n",
        "docs = reuters.fileids()\n",
        "train_docs_id = list(filter(lambda doc: doc.startswith(\"train\"), docs))\n",
        "test_docs_id = list(filter(lambda doc: doc.startswith(\"test\"), docs))\n",
        "\n",
        "train_docs = [reuters.raw(doc_id) for doc_id in train_docs_id]\n",
        "test_docs = [reuters.raw(doc_id) for doc_id in test_docs_id]\n",
        "\n",
        "# Tokenize and preprocess the text data\n",
        "max_words = 10000\n",
        "max_len = 100  # Adjust as needed\n",
        "\n",
        "tokenizer = Tokenizer(num_words=max_words)\n",
        "tokenizer.fit_on_texts(train_docs)\n",
        "word_index = tokenizer.word_index\n",
        "\n",
        "X_train_seq = tokenizer.texts_to_sequences(train_docs)\n",
        "X_test_seq = tokenizer.texts_to_sequences(test_docs)\n",
        "\n",
        "X_train = pad_sequences(X_train_seq, maxlen=max_len, padding='post')\n",
        "X_test = pad_sequences(X_test_seq, maxlen=max_len, padding='post')\n",
        "\n",
        "# Create target summaries\n",
        "Y_train = tokenizer.texts_to_sequences([reuters.raw(doc_id).split('\\n')[0] for doc_id in train_docs_id])\n",
        "Y_test = tokenizer.texts_to_sequences([reuters.raw(doc_id).split('\\n')[0] for doc_id in test_docs_id])\n",
        "\n",
        "# Ensure that sequences have the same length as input sequences\n",
        "Y_train = pad_sequences(Y_train, maxlen=max_len, padding='post')\n",
        "Y_test = pad_sequences(Y_test, maxlen=max_len, padding='post')\n",
        "\n"
      ]
    },
    {
      "cell_type": "code",
      "execution_count": 46,
      "metadata": {
        "id": "Xq27Mfva6r79"
      },
      "outputs": [
        {
          "name": "stdout",
          "output_type": "stream",
          "text": [
            "Epoch 1/5\n",
            "98/98 [==============================] - 698s 7s/step - loss: 2.8725 - accuracy: 0.9076 - val_loss: 0.5835 - val_accuracy: 0.9277\n",
            "Epoch 2/5\n",
            "98/98 [==============================] - 805s 8s/step - loss: 0.5549 - accuracy: 0.9288 - val_loss: 0.5708 - val_accuracy: 0.9279\n",
            "Epoch 3/5\n",
            "98/98 [==============================] - 855s 9s/step - loss: 0.5378 - accuracy: 0.9292 - val_loss: 0.5660 - val_accuracy: 0.9278\n",
            "Epoch 4/5\n",
            "98/98 [==============================] - 784s 8s/step - loss: 0.5285 - accuracy: 0.9295 - val_loss: 0.5654 - val_accuracy: 0.9280\n",
            "Epoch 5/5\n",
            "98/98 [==============================] - 766s 8s/step - loss: 0.5227 - accuracy: 0.9297 - val_loss: 0.5637 - val_accuracy: 0.9279\n",
            "95/95 [==============================] - 176s 2s/step - loss: 0.5360 - accuracy: 0.9300\n",
            "Test Loss: 0.5359827280044556, Test Accuracy: 0.9300463795661926\n"
          ]
        }
      ],
      "source": [
        "# from tensorflow.keras.models import Sequential, Model\n",
        "\n",
        "# from tensorflow.keras.layers import Embedding, LSTM, Dense, Attention, Input, Concatenate\n",
        "# # Build the RNN model with attention mechanism\n",
        "# embedding_dim = 100\n",
        "# vocab_size = len(word_index) + 1\n",
        "\n",
        "# # Input layer for the encoder\n",
        "# encoder_inputs = Input(shape=(max_len,))\n",
        "\n",
        "# # Embedding layer\n",
        "# embedding_layer = Embedding(input_dim=vocab_size, output_dim=embedding_dim, input_length=max_len)\n",
        "# embedded_inputs = embedding_layer(encoder_inputs)\n",
        "\n",
        "# # LSTM layer\n",
        "# lstm_out, lstm_state_h, lstm_state_c = LSTM(100, return_sequences=True, return_state=True)(embedded_inputs)\n",
        "\n",
        "# # Attention layer\n",
        "# attention = Attention()([lstm_out, lstm_out])\n",
        "\n",
        "# # Concatenate attention output and LSTM output\n",
        "# attended_out = Concatenate(axis=-1)([lstm_out, attention])\n",
        "\n",
        "# # Dense layer\n",
        "# outputs = Dense(vocab_size, activation='softmax')(attended_out)\n",
        "\n",
        "# # Build the model\n",
        "# model = Model(inputs=encoder_inputs, outputs=outputs)\n",
        "\n",
        "# model.compile(optimizer='adam', loss='sparse_categorical_crossentropy', metrics=['accuracy'])\n",
        "\n",
        "# # Train the model\n",
        "# model.fit(X_train, Y_train, epochs=5, batch_size=64, validation_split=0.2)\n",
        "\n",
        "# # Evaluate the model\n",
        "# loss, accuracy = model.evaluate(X_test, Y_test)\n",
        "# print(f'Test Loss: {loss}, Test Accuracy: {accuracy}')"
      ]
    },
    {
      "cell_type": "code",
      "execution_count": null,
      "metadata": {},
      "outputs": [],
      "source": []
    }
  ],
  "metadata": {
    "colab": {
      "provenance": []
    },
    "kernelspec": {
      "display_name": "Python 3",
      "name": "python3"
    },
    "language_info": {
      "codemirror_mode": {
        "name": "ipython",
        "version": 3
      },
      "file_extension": ".py",
      "mimetype": "text/x-python",
      "name": "python",
      "nbconvert_exporter": "python",
      "pygments_lexer": "ipython3",
      "version": "3.6.5"
    }
  },
  "nbformat": 4,
  "nbformat_minor": 0
}
